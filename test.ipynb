{
 "metadata": {
  "language_info": {
   "codemirror_mode": {
    "name": "ipython",
    "version": 3
   },
   "file_extension": ".py",
   "mimetype": "text/x-python",
   "name": "python",
   "nbconvert_exporter": "python",
   "pygments_lexer": "ipython3",
   "version": "3.9.5"
  },
  "orig_nbformat": 2,
  "kernelspec": {
   "name": "python395jvsc74a57bd02f613553fa295e4d598794defe02532b2df0daebbb0e9b1f07cf4d71ea5acc0e",
   "display_name": "Python 3.9.5 64-bit ('toolbox': conda)"
  },
  "metadata": {
   "interpreter": {
    "hash": "2f613553fa295e4d598794defe02532b2df0daebbb0e9b1f07cf4d71ea5acc0e"
   }
  }
 },
 "nbformat": 4,
 "nbformat_minor": 2,
 "cells": [
  {
   "cell_type": "code",
   "execution_count": 28,
   "metadata": {},
   "outputs": [],
   "source": [
    "import numpy as np\n",
    "from gut_test import get_rand_set"
   ]
  },
  {
   "cell_type": "code",
   "execution_count": 29,
   "metadata": {},
   "outputs": [],
   "source": [
    "min = 1\n",
    "max = 100\n",
    "size = 10000"
   ]
  },
  {
   "cell_type": "code",
   "execution_count": 30,
   "metadata": {},
   "outputs": [],
   "source": [
    "# test_list = [*range(min, max)]\n",
    "test_list = get_rand_set(min, max, size)"
   ]
  },
  {
   "cell_type": "code",
   "execution_count": 31,
   "metadata": {},
   "outputs": [],
   "source": [
    "# test_list.reverse()"
   ]
  },
  {
   "cell_type": "code",
   "execution_count": 32,
   "metadata": {},
   "outputs": [],
   "source": [
    "from toolbox.crystal_sort_test import *"
   ]
  },
  {
   "cell_type": "code",
   "execution_count": 33,
   "metadata": {},
   "outputs": [],
   "source": [
    "bucket, passes, comparisons, swaps = sort_00(test_list)"
   ]
  },
  {
   "cell_type": "code",
   "execution_count": 34,
   "metadata": {},
   "outputs": [
    {
     "output_type": "stream",
     "name": "stdout",
     "text": [
      "passes: 25000000\ncomparisons: 50001582\nswaps: 166778\n"
     ]
    }
   ],
   "source": [
    "# print(bucket)\n",
    "print(f'passes: {passes}')\n",
    "print(f'comparisons: {comparisons}')\n",
    "print(f'swaps: {swaps}')"
   ]
  },
  {
   "cell_type": "code",
   "execution_count": 35,
   "metadata": {},
   "outputs": [],
   "source": [
    "bucket, passes, comparisons, swaps = sort_03(test_list)"
   ]
  },
  {
   "cell_type": "code",
   "execution_count": 36,
   "metadata": {},
   "outputs": [
    {
     "output_type": "stream",
     "name": "stdout",
     "text": [
      "passes: 250117\ncomparisons: 255156\nswaps: 10163\n"
     ]
    }
   ],
   "source": [
    "# print(bucket)\n",
    "print(f'passes: {passes}')\n",
    "print(f'comparisons: {comparisons}')\n",
    "print(f'swaps: {swaps}')"
   ]
  }
 ]
}