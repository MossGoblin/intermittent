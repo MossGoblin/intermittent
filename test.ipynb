{
 "metadata": {
  "language_info": {
   "codemirror_mode": {
    "name": "ipython",
    "version": 3
   },
   "file_extension": ".py",
   "mimetype": "text/x-python",
   "name": "python",
   "nbconvert_exporter": "python",
   "pygments_lexer": "ipython3",
   "version": "3.9.5"
  },
  "orig_nbformat": 2,
  "kernelspec": {
   "name": "python395jvsc74a57bd0814683cd0e67dd6d14af63f3a7af17076f7fa244e062f7240c136088d53d7072",
   "display_name": "Python 3.9.5 64-bit"
  },
  "metadata": {
   "interpreter": {
    "hash": "814683cd0e67dd6d14af63f3a7af17076f7fa244e062f7240c136088d53d7072"
   }
  }
 },
 "nbformat": 4,
 "nbformat_minor": 2,
 "cells": [
  {
   "cell_type": "code",
   "execution_count": 24,
   "metadata": {},
   "outputs": [],
   "source": [
    "import numpy as np\n",
    "from gut_test import get_rand_set"
   ]
  },
  {
   "cell_type": "code",
   "execution_count": 25,
   "metadata": {},
   "outputs": [],
   "source": [
    "# print(sys.executable)"
   ]
  },
  {
   "cell_type": "code",
   "execution_count": 26,
   "metadata": {},
   "outputs": [],
   "source": [
    "min = 1\n",
    "max = 100\n",
    "size = 10000"
   ]
  },
  {
   "cell_type": "code",
   "execution_count": 27,
   "metadata": {},
   "outputs": [],
   "source": [
    "# test_list = [*range(min, max)]\n",
    "# test_list.reverse()\n",
    "test_list = get_rand_set(min, max, size)\n"
   ]
  },
  {
   "cell_type": "code",
   "execution_count": 28,
   "metadata": {},
   "outputs": [],
   "source": [
    "# test_list.reverse()"
   ]
  },
  {
   "cell_type": "code",
   "execution_count": 29,
   "metadata": {},
   "outputs": [],
   "source": [
    "from toolbox.crystal_sort_test import *"
   ]
  },
  {
   "cell_type": "code",
   "execution_count": 30,
   "metadata": {},
   "outputs": [],
   "source": [
    "bucket, passes, comparisons, swaps = sort_00(test_list)"
   ]
  },
  {
   "cell_type": "code",
   "execution_count": 31,
   "metadata": {},
   "outputs": [
    {
     "output_type": "stream",
     "name": "stdout",
     "text": [
      "passes: 25000000\ncomparisons: 49999062\nswaps: 164316\n"
     ]
    }
   ],
   "source": [
    "# print(bucket)\n",
    "print(f'passes: {passes}')\n",
    "print(f'comparisons: {comparisons}')\n",
    "print(f'swaps: {swaps}')"
   ]
  },
  {
   "cell_type": "code",
   "execution_count": 32,
   "metadata": {},
   "outputs": [],
   "source": [
    "bucket, passes, comparisons, swaps = sort_03(test_list)"
   ]
  },
  {
   "cell_type": "code",
   "execution_count": 33,
   "metadata": {},
   "outputs": [
    {
     "output_type": "stream",
     "name": "stdout",
     "text": [
      "passes: 253880\ncomparisons: 258851\nswaps: 10193\n"
     ]
    }
   ],
   "source": [
    "# print(bucket)\n",
    "print(f'passes: {passes}')\n",
    "print(f'comparisons: {comparisons}')\n",
    "print(f'swaps: {swaps}')"
   ]
  }
 ]
}